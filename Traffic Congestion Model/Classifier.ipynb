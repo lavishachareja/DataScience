{
 "cells": [
  {
   "cell_type": "code",
   "execution_count": 13,
   "id": "e133b844-de1c-48f5-8b17-84a428571ec2",
   "metadata": {},
   "outputs": [
    {
     "name": "stdin",
     "output_type": "stream",
     "text": [
      "Latitude: 18.4827\n",
      "Longitude: 73.8311\n"
     ]
    },
    {
     "name": "stdout",
     "output_type": "stream",
     "text": [
      "Congestion Level: Medium\n"
     ]
    },
    {
     "name": "stderr",
     "output_type": "stream",
     "text": [
      "C:\\Users\\lavis\\anaconda3\\Lib\\site-packages\\sklearn\\utils\\validation.py:2739: UserWarning: X does not have valid feature names, but DecisionTreeClassifier was fitted with feature names\n",
      "  warnings.warn(\n"
     ]
    }
   ],
   "source": [
    "import joblib\n",
    "from Traffic_data_collection import get_traffic_data\n",
    "\n",
    "model = joblib.load('classifier.pkl')\n",
    "\n",
    "lat = float(input(\"Latitude:\"))\n",
    "lon = float(input(\"Longitude:\"))\n",
    "traffic = get_traffic_data(lat, lon)\n",
    "\n",
    "X_new = [[traffic['currentSpeed'], traffic['freeFlowSpeed']]]\n",
    "prediction = model.predict(X_new)[0]\n",
    "print(f\"Congestion Level: {prediction}\")"
   ]
  }
 ],
 "metadata": {
  "kernelspec": {
   "display_name": "Python [conda env:base] *",
   "language": "python",
   "name": "conda-base-py"
  },
  "language_info": {
   "codemirror_mode": {
    "name": "ipython",
    "version": 3
   },
   "file_extension": ".py",
   "mimetype": "text/x-python",
   "name": "python",
   "nbconvert_exporter": "python",
   "pygments_lexer": "ipython3",
   "version": "3.13.5"
  }
 },
 "nbformat": 4,
 "nbformat_minor": 5
}
