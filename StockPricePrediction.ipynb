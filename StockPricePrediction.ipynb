{
 "cells": [
  {
   "cell_type": "code",
   "execution_count": 1,
   "metadata": {
    "id": "_oJHcFH8xImv"
   },
   "outputs": [],
   "source": [
    "import pandas as pd\n",
    "import numpy as np\n",
    "from sklearn.model_selection import train_test_split\n",
    "from sklearn.linear_model import LinearRegression\n",
    "from sklearn.ensemble import RandomForestRegressor\n",
    "from sklearn.tree import DecisionTreeRegressor\n",
    "from sklearn.neighbors import KNeighborsRegressor\n",
    "from sklearn.metrics import mean_absolute_error, r2_score\n",
    "import matplotlib.pyplot as plt\n",
    "import seaborn as sns"
   ]
  },
  {
   "cell_type": "code",
   "execution_count": 5,
   "metadata": {
    "id": "_8D2Ce9FvjBA"
   },
   "outputs": [],
   "source": [
    "df = pd.read_csv(r'C:\\Users\\lavis\\Downloads\\dataset.csv')"
   ]
  },
  {
   "cell_type": "code",
   "execution_count": 6,
   "metadata": {
    "colab": {
     "base_uri": "https://localhost:8080/"
    },
    "id": "1jQJXJZpvpZF",
    "outputId": "fec9180f-70d0-41be-f28d-4ec7591cb4fc"
   },
   "outputs": [
    {
     "name": "stdout",
     "output_type": "stream",
     "text": [
      "<class 'pandas.core.frame.DataFrame'>\n",
      "RangeIndex: 3272 entries, 0 to 3271\n",
      "Data columns (total 10 columns):\n",
      " #   Column        Non-Null Count  Dtype  \n",
      "---  ------        --------------  -----  \n",
      " 0   Date          3272 non-null   object \n",
      " 1   Close_AAPL    3272 non-null   float64\n",
      " 2   High_AAPL     3272 non-null   float64\n",
      " 3   Low_AAPL      3272 non-null   float64\n",
      " 4   Open_AAPL     3272 non-null   float64\n",
      " 5   Volume_AAPL   3272 non-null   int64  \n",
      " 6   sentiment     3272 non-null   float64\n",
      " 7   GDP           3211 non-null   float64\n",
      " 8   CPI           3253 non-null   float64\n",
      " 9   Unemployment  3253 non-null   float64\n",
      "dtypes: float64(8), int64(1), object(1)\n",
      "memory usage: 255.8+ KB\n"
     ]
    }
   ],
   "source": [
    "df.info()"
   ]
  },
  {
   "cell_type": "code",
   "execution_count": 7,
   "metadata": {
    "colab": {
     "base_uri": "https://localhost:8080/",
     "height": 320
    },
    "id": "frBw2DEZvrRg",
    "outputId": "74295191-abda-4bda-aa78-d35b24fc55b7"
   },
   "outputs": [
    {
     "data": {
      "text/html": [
       "<div>\n",
       "<style scoped>\n",
       "    .dataframe tbody tr th:only-of-type {\n",
       "        vertical-align: middle;\n",
       "    }\n",
       "\n",
       "    .dataframe tbody tr th {\n",
       "        vertical-align: top;\n",
       "    }\n",
       "\n",
       "    .dataframe thead th {\n",
       "        text-align: right;\n",
       "    }\n",
       "</style>\n",
       "<table border=\"1\" class=\"dataframe\">\n",
       "  <thead>\n",
       "    <tr style=\"text-align: right;\">\n",
       "      <th></th>\n",
       "      <th>Close_AAPL</th>\n",
       "      <th>High_AAPL</th>\n",
       "      <th>Low_AAPL</th>\n",
       "      <th>Open_AAPL</th>\n",
       "      <th>Volume_AAPL</th>\n",
       "      <th>sentiment</th>\n",
       "      <th>GDP</th>\n",
       "      <th>CPI</th>\n",
       "      <th>Unemployment</th>\n",
       "    </tr>\n",
       "  </thead>\n",
       "  <tbody>\n",
       "    <tr>\n",
       "      <th>count</th>\n",
       "      <td>3272.000000</td>\n",
       "      <td>3272.000000</td>\n",
       "      <td>3272.000000</td>\n",
       "      <td>3272.000000</td>\n",
       "      <td>3.272000e+03</td>\n",
       "      <td>3272.000000</td>\n",
       "      <td>3211.000000</td>\n",
       "      <td>3253.000000</td>\n",
       "      <td>3253.000000</td>\n",
       "    </tr>\n",
       "    <tr>\n",
       "      <th>mean</th>\n",
       "      <td>48.837106</td>\n",
       "      <td>49.361432</td>\n",
       "      <td>48.273689</td>\n",
       "      <td>48.813946</td>\n",
       "      <td>2.562707e+08</td>\n",
       "      <td>0.040413</td>\n",
       "      <td>19191.823895</td>\n",
       "      <td>245.677746</td>\n",
       "      <td>6.110667</td>\n",
       "    </tr>\n",
       "    <tr>\n",
       "      <th>std</th>\n",
       "      <td>47.212411</td>\n",
       "      <td>47.790602</td>\n",
       "      <td>46.591678</td>\n",
       "      <td>47.184467</td>\n",
       "      <td>2.225648e+08</td>\n",
       "      <td>0.194627</td>\n",
       "      <td>3096.237778</td>\n",
       "      <td>19.537428</td>\n",
       "      <td>2.259949</td>\n",
       "    </tr>\n",
       "    <tr>\n",
       "      <th>min</th>\n",
       "      <td>5.771907</td>\n",
       "      <td>5.890620</td>\n",
       "      <td>5.717811</td>\n",
       "      <td>5.781523</td>\n",
       "      <td>3.519590e+07</td>\n",
       "      <td>-0.340000</td>\n",
       "      <td>14980.193000</td>\n",
       "      <td>217.199000</td>\n",
       "      <td>3.500000</td>\n",
       "    </tr>\n",
       "    <tr>\n",
       "      <th>25%</th>\n",
       "      <td>16.413700</td>\n",
       "      <td>16.600555</td>\n",
       "      <td>16.281294</td>\n",
       "      <td>16.413009</td>\n",
       "      <td>1.023541e+08</td>\n",
       "      <td>0.000000</td>\n",
       "      <td>16728.687000</td>\n",
       "      <td>231.893000</td>\n",
       "      <td>4.100000</td>\n",
       "    </tr>\n",
       "    <tr>\n",
       "      <th>50%</th>\n",
       "      <td>27.036161</td>\n",
       "      <td>27.251451</td>\n",
       "      <td>26.903466</td>\n",
       "      <td>27.095794</td>\n",
       "      <td>1.666698e+08</td>\n",
       "      <td>0.000000</td>\n",
       "      <td>18892.639000</td>\n",
       "      <td>240.222000</td>\n",
       "      <td>5.600000</td>\n",
       "    </tr>\n",
       "    <tr>\n",
       "      <th>75%</th>\n",
       "      <td>54.250714</td>\n",
       "      <td>54.928157</td>\n",
       "      <td>53.858818</td>\n",
       "      <td>54.404451</td>\n",
       "      <td>3.456643e+08</td>\n",
       "      <td>0.000000</td>\n",
       "      <td>21684.551000</td>\n",
       "      <td>256.036000</td>\n",
       "      <td>7.800000</td>\n",
       "    </tr>\n",
       "    <tr>\n",
       "      <th>max</th>\n",
       "      <td>178.645660</td>\n",
       "      <td>179.558489</td>\n",
       "      <td>175.809091</td>\n",
       "      <td>179.254221</td>\n",
       "      <td>1.880998e+09</td>\n",
       "      <td>0.440400</td>\n",
       "      <td>26272.011000</td>\n",
       "      <td>298.808000</td>\n",
       "      <td>14.800000</td>\n",
       "    </tr>\n",
       "  </tbody>\n",
       "</table>\n",
       "</div>"
      ],
      "text/plain": [
       "        Close_AAPL    High_AAPL     Low_AAPL    Open_AAPL   Volume_AAPL  \\\n",
       "count  3272.000000  3272.000000  3272.000000  3272.000000  3.272000e+03   \n",
       "mean     48.837106    49.361432    48.273689    48.813946  2.562707e+08   \n",
       "std      47.212411    47.790602    46.591678    47.184467  2.225648e+08   \n",
       "min       5.771907     5.890620     5.717811     5.781523  3.519590e+07   \n",
       "25%      16.413700    16.600555    16.281294    16.413009  1.023541e+08   \n",
       "50%      27.036161    27.251451    26.903466    27.095794  1.666698e+08   \n",
       "75%      54.250714    54.928157    53.858818    54.404451  3.456643e+08   \n",
       "max     178.645660   179.558489   175.809091   179.254221  1.880998e+09   \n",
       "\n",
       "         sentiment           GDP          CPI  Unemployment  \n",
       "count  3272.000000   3211.000000  3253.000000   3253.000000  \n",
       "mean      0.040413  19191.823895   245.677746      6.110667  \n",
       "std       0.194627   3096.237778    19.537428      2.259949  \n",
       "min      -0.340000  14980.193000   217.199000      3.500000  \n",
       "25%       0.000000  16728.687000   231.893000      4.100000  \n",
       "50%       0.000000  18892.639000   240.222000      5.600000  \n",
       "75%       0.000000  21684.551000   256.036000      7.800000  \n",
       "max       0.440400  26272.011000   298.808000     14.800000  "
      ]
     },
     "execution_count": 7,
     "metadata": {},
     "output_type": "execute_result"
    }
   ],
   "source": [
    "df.describe()"
   ]
  },
  {
   "cell_type": "code",
   "execution_count": 8,
   "metadata": {
    "id": "E56_vWFZvwbM"
   },
   "outputs": [],
   "source": [
    "#Date column -> DateTime format\n",
    "df['Date'] = pd.to_datetime(df['Date'])"
   ]
  },
  {
   "cell_type": "code",
   "execution_count": 9,
   "metadata": {
    "colab": {
     "base_uri": "https://localhost:8080/"
    },
    "id": "LgtsLE4Kv8lN",
    "outputId": "422a95b6-6c2e-41a2-a421-086a0ae3d2e3"
   },
   "outputs": [
    {
     "data": {
      "text/plain": [
       "['GDP', 'CPI', 'Unemployment']"
      ]
     },
     "execution_count": 9,
     "metadata": {},
     "output_type": "execute_result"
    }
   ],
   "source": [
    "#Checking for columns with missing values\n",
    "cols_with_missing = [col for col in df.columns if df[col].isnull().any()]\n",
    "cols_with_missing"
   ]
  },
  {
   "cell_type": "code",
   "execution_count": 10,
   "metadata": {
    "colab": {
     "base_uri": "https://localhost:8080/"
    },
    "id": "xI4ppaqJwXkX",
    "outputId": "b4cc7418-b42e-4d2d-a61a-0d585c0e00fd"
   },
   "outputs": [
    {
     "name": "stderr",
     "output_type": "stream",
     "text": [
      "C:\\Users\\lavis\\AppData\\Local\\Temp\\ipykernel_24332\\2106852823.py:2: FutureWarning: A value is trying to be set on a copy of a DataFrame or Series through chained assignment using an inplace method.\n",
      "The behavior will change in pandas 3.0. This inplace method will never work because the intermediate object on which we are setting values always behaves as a copy.\n",
      "\n",
      "For example, when doing 'df[col].method(value, inplace=True)', try using 'df.method({col: value}, inplace=True)' or df[col] = df[col].method(value) instead, to perform the operation inplace on the original object.\n",
      "\n",
      "\n",
      "  df['GDP'].fillna(df['GDP'].mean(), inplace=True)\n",
      "C:\\Users\\lavis\\AppData\\Local\\Temp\\ipykernel_24332\\2106852823.py:3: FutureWarning: A value is trying to be set on a copy of a DataFrame or Series through chained assignment using an inplace method.\n",
      "The behavior will change in pandas 3.0. This inplace method will never work because the intermediate object on which we are setting values always behaves as a copy.\n",
      "\n",
      "For example, when doing 'df[col].method(value, inplace=True)', try using 'df.method({col: value}, inplace=True)' or df[col] = df[col].method(value) instead, to perform the operation inplace on the original object.\n",
      "\n",
      "\n",
      "  df['CPI'].fillna(df['CPI'].mean(), inplace=True)\n",
      "C:\\Users\\lavis\\AppData\\Local\\Temp\\ipykernel_24332\\2106852823.py:4: FutureWarning: A value is trying to be set on a copy of a DataFrame or Series through chained assignment using an inplace method.\n",
      "The behavior will change in pandas 3.0. This inplace method will never work because the intermediate object on which we are setting values always behaves as a copy.\n",
      "\n",
      "For example, when doing 'df[col].method(value, inplace=True)', try using 'df.method({col: value}, inplace=True)' or df[col] = df[col].method(value) instead, to perform the operation inplace on the original object.\n",
      "\n",
      "\n",
      "  df['Unemployment'].fillna(df['Unemployment'].mean(), inplace=True)\n"
     ]
    }
   ],
   "source": [
    "#Handling missing values in GDP, CPI and Unemployment Column\n",
    "df['GDP'].fillna(df['GDP'].mean(), inplace=True)\n",
    "df['CPI'].fillna(df['CPI'].mean(), inplace=True)\n",
    "df['Unemployment'].fillna(df['Unemployment'].mean(), inplace=True)"
   ]
  },
  {
   "cell_type": "code",
   "execution_count": null,
   "metadata": {
    "colab": {
     "base_uri": "https://localhost:8080/"
    },
    "id": "-i-njebEwg7H",
    "outputId": "9d9a83cf-5a5a-4859-9ec9-4dcd30f48ae3"
   },
   "outputs": [
    {
     "data": {
      "text/plain": [
       "[]"
      ]
     },
     "execution_count": 113,
     "metadata": {},
     "output_type": "execute_result"
    }
   ],
   "source": [
    "#Verifying changes\n",
    "cols_with_missing = [col for col in df.columns if df[col].isnull().any()]\n",
    "cols_with_missing"
   ]
  },
  {
   "cell_type": "code",
   "execution_count": 13,
   "metadata": {},
   "outputs": [
    {
     "data": {
      "image/png": "[encoded data removed]",
      "text/plain": [
       "<Figure size 800x600 with 2 Axes>"
      ]
     },
     "metadata": {},
     "output_type": "display_data"
    }
   ],
   "source": [
    "# Computing correlation matrix\n",
    "corr_matrix = df.drop(columns=[\"Date\"]).corr()\n",
    "\n",
    "# Ploting heatmap for correlation matrix\n",
    "# Feature engineering\n",
    "plt.figure(figsize=(8, 6))\n",
    "sns.heatmap(corr_matrix, annot=True, cmap=\"coolwarm\", fmt=\".2f\")\n",
    "plt.title(\"Feature Correlation Heatmap\")\n",
    "plt.show()"
   ]
  },
  {
   "cell_type": "code",
   "execution_count": 67,
   "metadata": {
    "id": "oYzWZoZhxgAj"
   },
   "outputs": [],
   "source": [
    "#Model - splitting data in features\n",
    "features = [\"GDP\",\"CPI\"]\n",
    "target = [\"Close_AAPL\",\"Open_AAPL\"]\n",
    "\n",
    "X = df[features]\n",
    "Y = df[target]"
   ]
  },
  {
   "cell_type": "code",
   "execution_count": 76,
   "metadata": {
    "id": "YrF0Qhvsx3fr"
   },
   "outputs": [],
   "source": [
    "#Model - splitting data into test and train - Close\n",
    "X_train, X_test, y_train, y_test = train_test_split(X, Y, test_size=0.5)"
   ]
  },
  {
   "cell_type": "code",
   "execution_count": 77,
   "metadata": {
    "colab": {
     "base_uri": "https://localhost:8080/"
    },
    "id": "q8OqxWy7x6w-",
    "outputId": "cb85332d-86a5-4b3e-c30f-33173d397d92"
   },
   "outputs": [
    {
     "name": "stdout",
     "output_type": "stream",
     "text": [
      "SIZE (X-Train): (1636, 2)\n",
      "SIZE (X-Test): (1636, 2)\n",
      "SIZE (y-Train): (1636, 2)\n",
      "SIZE (y-Test): (1636, 2)\n"
     ]
    }
   ],
   "source": [
    "#Model - checkin size of split data\n",
    "print(\"SIZE (X-Train):\", X_train.shape)\n",
    "print(\"SIZE (X-Test):\", X_test.shape)\n",
    "print(\"SIZE (y-Train):\", y_train.shape)\n",
    "print(\"SIZE (y-Test):\", y_test.shape)"
   ]
  },
  {
   "cell_type": "code",
   "execution_count": 78,
   "metadata": {
    "id": "HDhSED_9yCS9"
   },
   "outputs": [],
   "source": [
    "#Model - Random Forest Regressor - Train and Test\n",
    "rf_model = RandomForestRegressor(n_estimators=500, max_depth=3, min_samples_split=3, min_samples_leaf=3, max_features='sqrt')\n",
    "rf_model.fit(X_train, y_train)\n",
    "y_pred_rf = rf_model.predict(X_test)"
   ]
  },
  {
   "cell_type": "code",
   "execution_count": 79,
   "metadata": {
    "id": "6TFEbwYS0U77"
   },
   "outputs": [
    {
     "name": "stdout",
     "output_type": "stream",
     "text": [
      "R2 Score: 0.9763946607720899\n",
      "MAE: 5.347122662429385\n"
     ]
    }
   ],
   "source": [
    "#Models Evaluation\n",
    "r2_rf = r2_score(y_test, y_pred_rf)\n",
    "mae_rf = mean_absolute_error(y_test, y_pred_rf)\n",
    "print(\"R2 Score:\",r2_rf)\n",
    "print(\"MAE:\",mae_rf)"
   ]
  },
  {
   "cell_type": "code",
   "execution_count": null,
   "metadata": {},
   "outputs": [],
   "source": []
  },
  {
   "cell_type": "code",
   "execution_count": 84,
   "metadata": {
    "colab": {
     "base_uri": "https://localhost:8080/",
     "height": 243
    },
    "id": "BmqeITTN7M15",
    "outputId": "7badce49-a4af-471d-a4ae-d830fe4664b9"
   },
   "outputs": [
    {
     "name": "stdout",
     "output_type": "stream",
     "text": [
      "Random Samples Comparison:\n"
     ]
    },
    {
     "data": {
      "text/html": [
       "<div>\n",
       "<style scoped>\n",
       "    .dataframe tbody tr th:only-of-type {\n",
       "        vertical-align: middle;\n",
       "    }\n",
       "\n",
       "    .dataframe tbody tr th {\n",
       "        vertical-align: top;\n",
       "    }\n",
       "\n",
       "    .dataframe thead th {\n",
       "        text-align: right;\n",
       "    }\n",
       "</style>\n",
       "<table border=\"1\" class=\"dataframe\">\n",
       "  <thead>\n",
       "    <tr style=\"text-align: right;\">\n",
       "      <th></th>\n",
       "      <th>GDP</th>\n",
       "      <th>CPI</th>\n",
       "      <th>Close_AAPL</th>\n",
       "      <th>Open_AAPL</th>\n",
       "      <th>Predicted_Close</th>\n",
       "      <th>Predicted_Open</th>\n",
       "    </tr>\n",
       "  </thead>\n",
       "  <tbody>\n",
       "    <tr>\n",
       "      <th>764</th>\n",
       "      <td>16420.419</td>\n",
       "      <td>231.249</td>\n",
       "      <td>15.345199</td>\n",
       "      <td>14.998023</td>\n",
       "      <td>13.686470</td>\n",
       "      <td>13.698571</td>\n",
       "    </tr>\n",
       "    <tr>\n",
       "      <th>3038</th>\n",
       "      <td>24777.038</td>\n",
       "      <td>280.806</td>\n",
       "      <td>156.276901</td>\n",
       "      <td>159.447192</td>\n",
       "      <td>155.919626</td>\n",
       "      <td>155.966070</td>\n",
       "    </tr>\n",
       "    <tr>\n",
       "      <th>2048</th>\n",
       "      <td>18892.639</td>\n",
       "      <td>249.529</td>\n",
       "      <td>40.648205</td>\n",
       "      <td>40.483256</td>\n",
       "      <td>38.169016</td>\n",
       "      <td>38.149452</td>\n",
       "    </tr>\n",
       "    <tr>\n",
       "      <th>2702</th>\n",
       "      <td>21684.551</td>\n",
       "      <td>259.997</td>\n",
       "      <td>111.950539</td>\n",
       "      <td>111.999233</td>\n",
       "      <td>95.306761</td>\n",
       "      <td>95.369047</td>\n",
       "    </tr>\n",
       "    <tr>\n",
       "      <th>1684</th>\n",
       "      <td>18892.639</td>\n",
       "      <td>241.176</td>\n",
       "      <td>24.229149</td>\n",
       "      <td>23.588032</td>\n",
       "      <td>27.187983</td>\n",
       "      <td>27.183886</td>\n",
       "    </tr>\n",
       "    <tr>\n",
       "      <th>...</th>\n",
       "      <td>...</td>\n",
       "      <td>...</td>\n",
       "      <td>...</td>\n",
       "      <td>...</td>\n",
       "      <td>...</td>\n",
       "      <td>...</td>\n",
       "    </tr>\n",
       "    <tr>\n",
       "      <th>1576</th>\n",
       "      <td>18711.702</td>\n",
       "      <td>238.992</td>\n",
       "      <td>24.684258</td>\n",
       "      <td>24.741050</td>\n",
       "      <td>27.089143</td>\n",
       "      <td>27.085244</td>\n",
       "    </tr>\n",
       "    <tr>\n",
       "      <th>70</th>\n",
       "      <td>14980.193</td>\n",
       "      <td>217.403</td>\n",
       "      <td>7.481090</td>\n",
       "      <td>7.386719</td>\n",
       "      <td>13.686470</td>\n",
       "      <td>13.698571</td>\n",
       "    </tr>\n",
       "    <tr>\n",
       "      <th>2826</th>\n",
       "      <td>22068.767</td>\n",
       "      <td>264.847</td>\n",
       "      <td>118.417267</td>\n",
       "      <td>117.577081</td>\n",
       "      <td>124.432984</td>\n",
       "      <td>124.624799</td>\n",
       "    </tr>\n",
       "    <tr>\n",
       "      <th>322</th>\n",
       "      <td>15557.539</td>\n",
       "      <td>224.093</td>\n",
       "      <td>10.102112</td>\n",
       "      <td>10.068751</td>\n",
       "      <td>13.686470</td>\n",
       "      <td>13.698571</td>\n",
       "    </tr>\n",
       "    <tr>\n",
       "      <th>3042</th>\n",
       "      <td>24777.038</td>\n",
       "      <td>284.525</td>\n",
       "      <td>172.589722</td>\n",
       "      <td>171.519873</td>\n",
       "      <td>155.919626</td>\n",
       "      <td>155.966070</td>\n",
       "    </tr>\n",
       "  </tbody>\n",
       "</table>\n",
       "<p>1636 rows × 6 columns</p>\n",
       "</div>"
      ],
      "text/plain": [
       "            GDP      CPI  Close_AAPL   Open_AAPL  Predicted_Close  \\\n",
       "764   16420.419  231.249   15.345199   14.998023        13.686470   \n",
       "3038  24777.038  280.806  156.276901  159.447192       155.919626   \n",
       "2048  18892.639  249.529   40.648205   40.483256        38.169016   \n",
       "2702  21684.551  259.997  111.950539  111.999233        95.306761   \n",
       "1684  18892.639  241.176   24.229149   23.588032        27.187983   \n",
       "...         ...      ...         ...         ...              ...   \n",
       "1576  18711.702  238.992   24.684258   24.741050        27.089143   \n",
       "70    14980.193  217.403    7.481090    7.386719        13.686470   \n",
       "2826  22068.767  264.847  118.417267  117.577081       124.432984   \n",
       "322   15557.539  224.093   10.102112   10.068751        13.686470   \n",
       "3042  24777.038  284.525  172.589722  171.519873       155.919626   \n",
       "\n",
       "      Predicted_Open  \n",
       "764        13.698571  \n",
       "3038      155.966070  \n",
       "2048       38.149452  \n",
       "2702       95.369047  \n",
       "1684       27.183886  \n",
       "...              ...  \n",
       "1576       27.085244  \n",
       "70         13.698571  \n",
       "2826      124.624799  \n",
       "322        13.698571  \n",
       "3042      155.966070  \n",
       "\n",
       "[1636 rows x 6 columns]"
      ]
     },
     "execution_count": 84,
     "metadata": {},
     "output_type": "execute_result"
    }
   ],
   "source": [
    "X_pred = X_test.copy()\n",
    "y_pred = y_test.copy()\n",
    "\n",
    "predictions = rf_model.predict(X_pred)  # Should return shape (n_samples, 2)\n",
    "\n",
    "# Create comparison DataFrame\n",
    "comparison_df = X_pred.copy()\n",
    "\n",
    "# Assign actual values (make sure index aligns)\n",
    "comparison_df[\"Close_AAPL\"] = y_pred[\"Close_AAPL\"].values\n",
    "comparison_df[\"Open_AAPL\"] = y_pred[\"Open_AAPL\"].values\n",
    "\n",
    "# Assign predicted values\n",
    "comparison_df[\"Predicted_Close\"] = predictions[:, 0]\n",
    "comparison_df[\"Predicted_Open\"] = predictions[:, 1]\n",
    "\n",
    "print(\"Random Samples Comparison:\")\n",
    "comparison_df\n"
   ]
  },
  {
   "cell_type": "code",
   "execution_count": null,
   "metadata": {
    "id": "N0E86EvA9ACu"
   },
   "outputs": [],
   "source": []
  }
 ],
 "metadata": {
  "colab": {
   "provenance": []
  },
  "kernelspec": {
   "display_name": "Python [conda env:base] *",
   "language": "python",
   "name": "conda-base-py"
  },
  "language_info": {
   "codemirror_mode": {
    "name": "ipython",
    "version": 3
   },
   "file_extension": ".py",
   "mimetype": "text/x-python",
   "name": "python",
   "nbconvert_exporter": "python",
   "pygments_lexer": "ipython3",
   "version": "3.13.5"
  }
 },
 "nbformat": 4,
 "nbformat_minor": 4
}
